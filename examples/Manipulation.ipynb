{
 "cells": [
  {
   "cell_type": "markdown",
   "id": "28525e22",
   "metadata": {},
   "source": [
    "# Create a Manipulation FMU\n",
    "Tutorial by Johannes Stoljar, Tobias Thummerer\n",
    "\n",
    "## License"
   ]
  },
  {
   "cell_type": "code",
   "execution_count": 1,
   "id": "adf94a39",
   "metadata": {
    "execution": {
     "iopub.execute_input": "2022-10-04T21:58:18.147000Z",
     "iopub.status.busy": "2022-10-04T21:58:17.496000Z",
     "iopub.status.idle": "2022-10-04T21:58:18.424000Z",
     "shell.execute_reply": "2022-10-04T21:58:18.349000Z"
    }
   },
   "outputs": [],
   "source": [
    "# Copyright (c) 2021 Tobias Thummerer, Lars Mikelsons, Josef Kircher, Johannes Stoljar\n",
    "# Licensed under the MIT license.\n",
    "# See LICENSE (https://github.com/thummeto/FMIExport.jl/blob/main/LICENSE) file in the project root for details."
   ]
  },
  {
   "cell_type": "markdown",
   "id": "acb427c8",
   "metadata": {},
   "source": [
    "## Motivation\n",
    "This Julia Package *FMIExport.jl* is motivated by the export of simulation models in Julia. Here the FMI specification is implemented. FMI (*Functional Mock-up Interface*) is a free standard ([fmi-standard.org](http://fmi-standard.org/)) that defines a container and an interface to exchange dynamic models using a combination of XML files, binaries and C code zipped into a single file. The user is able to create own FMUs (*Functional Mock-up Units*).\n",
    "\n",
    "## Introduction to the example\n",
    "ToDo\n",
    "\n",
    "\n",
    "## Target group\n",
    "The example is primarily intended for users who work in the field of simulations. The example wants to show how simple it is to export FMUs in Julia.\n",
    "\n",
    "\n",
    "## Other formats\n",
    "Besides, this [Jupyter Notebook](https://github.com/thummeto/FMIExport.jl/blob/examples/examples/FMI2/BouncingBall/src/BouncingBall.ipynb) there is also a [Julia file](https://github.com/thummeto/FMIExport.jl/blob/examples/examples/FMI2/BouncingBall/src/BouncingBall.jl) with the same name, which contains only the code cells and for the documentation there is a [Markdown file](https://github.com/thummeto/FMI.jl/blob/examples/examples/FMI2/BouncingBall/src/BouncingBall.md) corresponding to the notebook.  \n",
    "\n",
    "\n",
    "## Getting started\n",
    "\n",
    "### Installation prerequisites\n",
    "|     | Description                       | Command                   | Alternative                                    |   \n",
    "|:----|:----------------------------------|:--------------------------|:-----------------------------------------------|\n",
    "| 1.  | Enter Package Manager via         | ]                         |                                                |\n",
    "| 2.  | Install FMI via                   | add FMI                   | add \" https://github.com/ThummeTo/FMI.jl \"     |\n",
    "| 2.  | Install FMIExport via             | add FMIExport             | add \" https://github.com/ThummeTo/FMIExport.jl \" |\n",
    "| 2.  | Install FMICore via               | add FMICore               | add \" https://github.com/ThummeTo/FMICore.jl \" |"
   ]
  },
  {
   "cell_type": "markdown",
   "id": "91bb7d9f",
   "metadata": {},
   "source": [
    "## Code section\n",
    "\n",
    "To run the example, the previously installed packages must be included. "
   ]
  },
  {
   "cell_type": "code",
   "execution_count": 2,
   "id": "7de0d313",
   "metadata": {
    "execution": {
     "iopub.execute_input": "2022-10-04T21:58:18.427000Z",
     "iopub.status.busy": "2022-10-04T21:58:18.427000Z",
     "iopub.status.idle": "2022-10-04T21:58:28.324000Z",
     "shell.execute_reply": "2022-10-04T21:58:28.323000Z"
    }
   },
   "outputs": [],
   "source": [
    "using FMI\n",
    "using FMIExport\n",
    "using FMICore"
   ]
  },
  {
   "cell_type": "markdown",
   "id": "682f6958",
   "metadata": {},
   "source": [
    "### ToDo"
   ]
  },
  {
   "cell_type": "code",
   "execution_count": 3,
   "id": "3edd6661",
   "metadata": {
    "execution": {
     "iopub.execute_input": "2022-10-04T21:58:28.481000Z",
     "iopub.status.busy": "2022-10-04T21:58:28.326000Z",
     "iopub.status.idle": "2022-10-04T21:58:34.060000Z",
     "shell.execute_reply": "2022-10-04T21:58:34.060000Z"
    }
   },
   "outputs": [
    {
     "name": "stderr",
     "output_type": "stream",
     "text": [
      "┌ Info: Saving example files at: /tmp/fmibuildjl_test_9HMXEL\n",
      "└ @ Main In[3]:53\n",
      "┌ Info: fmi2Unzip(...): Successfully unzipped 153 files at `/tmp/fmijl_4BJ2KK/SpringDamperPendulum1D`.\n",
      "└ @ FMIImport /home/runner/.julia/packages/FMIImport/1Yngw/src/FMI2_ext.jl:90\n",
      "┌ Info: fmi2Load(...): FMU resources location is `file:////tmp/fmijl_4BJ2KK/SpringDamperPendulum1D/resources`\n",
      "└ @ FMIImport /home/runner/.julia/packages/FMIImport/1Yngw/src/FMI2_ext.jl:221\n",
      "┌ Info: fmi2Load(...): FMU supports both CS and ME, using CS as default if nothing specified.\n",
      "└ @ FMIImport /home/runner/.julia/packages/FMIImport/1Yngw/src/FMI2_ext.jl:224\n"
     ]
    },
    {
     "data": {
      "text/plain": [
       "Model name:        SpringDamperPendulum1D\n",
       "Type:              1"
      ]
     },
     "execution_count": 3,
     "metadata": {},
     "output_type": "execute_result"
    }
   ],
   "source": [
    "originalGetReal = nothing # function pointer to the original fmi2GetReal c-function\n",
    "\n",
    "# custom function for fmi2GetReal!(fmi2Component, Union{Array{fmi2ValueReference}, Ptr{fmi2ValueReference}}, Csize_t, value::Union{Array{fmi2Real}, Ptr{fmi2Real}}::fmi2Status\n",
    "# for information on how the FMI2-functions are structured, have a look inside FMICore.jl/src/FMI2_c.jl or the FMI2.0.3-specification on fmi-standard.org\n",
    "function myGetReal!(c::fmi2Component, vr::Union{Array{fmi2ValueReference}, Ptr{fmi2ValueReference}}, nvr::Csize_t, value::Union{Array{fmi2Real}, Ptr{fmi2Real}})\n",
    "    global originalGetReal\n",
    "    \n",
    "    # first, we do what the original function does\n",
    "    status = fmi2GetReal!(originalGetReal, c, vr, nvr, value)\n",
    "\n",
    "    # if we have a pointer to an array, we must interprete it as array to access elements\n",
    "    if isa(value, Ptr{fmi2Real})\n",
    "        value = unsafe_wrap(Array{fmi2Real}, value, nvr, own=false)\n",
    "    end\n",
    "    if isa(vr, Ptr{fmi2Real})\n",
    "        vr = unsafe_wrap(Array{fmi2Real}, vr, nvr, own=false)\n",
    "    end\n",
    "\n",
    "    # now, we multiply the position sensor output by two (just for fun!)\n",
    "    for i in 1:nvr \n",
    "        if vr[i] == 335544320 # value reference for \"positionSensor.s\"\n",
    "            value[i] *= 2.0 \n",
    "        end\n",
    "    end \n",
    "\n",
    "    # ... and we return the original status\n",
    "    return status\n",
    "end\n",
    "\n",
    "# this function is called, as soon as the DLL is loaded and Julia is initialized \n",
    "# must return a FMU2-instance to work with\n",
    "FMIBUILD_CONSTRUCTOR = function(resPath)\n",
    "    global originalGetReal\n",
    "\n",
    "    # loads an existing FMU inside the FMU\n",
    "    fmu = fmiLoad(joinpath(resPath, \"SpringDamperPendulum1D.fmu\"))\n",
    "\n",
    "    # save, where the original `fmi2GetReal` function was stored, so we can access it in our new function\n",
    "    originalGetReal = fmu.cGetReal\n",
    "\n",
    "    # now we overwrite the original function\n",
    "    fmiSetFctGetReal(fmu, myGetReal!)\n",
    "\n",
    "    return fmu\n",
    "end\n",
    "\n",
    "### FMIBUILD_NO_EXPORT_BEGIN ###\n",
    "# The line above is a start-marker for excluded code for the FMU compilation process!\n",
    "\n",
    "import FMIZoo\n",
    "\n",
    "tmpDir = mktempdir(; prefix=\"fmibuildjl_test_\", cleanup=false) \n",
    "@info \"Saving example files at: $(tmpDir)\"\n",
    "fmu_save_path = joinpath(tmpDir, \"Manipulation.fmu\")  \n",
    "\n",
    "sourceFMU = FMIZoo.get_model_filename(\"SpringDamperPendulum1D\", \"Dymola\", \"2022x\")\n",
    "fmu = FMIBUILD_CONSTRUCTOR(dirname(sourceFMU))\n",
    "# import FMIBuild:fmi2Save        # <= this must be excluded during export, because FMIBuild cannot execute itself (but it is able to build)\n",
    "# fmi2Save(fmu, fmu_save_path; resources=Dict(sourceFMU=>\"SpringDamperPendulum1D.fmu\"))    # <= this must be excluded during export, because fmi2Save would start an infinte build loop with itself \n",
    "\n",
    "# The following line is a end-marker for excluded code for the FMU compilation process!\n",
    "### FMIBUILD_NO_EXPORT_END ###\n"
   ]
  },
  {
   "cell_type": "markdown",
   "id": "cb82fde0",
   "metadata": {},
   "source": [
    "### Summary\n",
    "\n",
    "ToDo"
   ]
  }
 ],
 "metadata": {
  "kernelspec": {
   "display_name": "Julia 1.6.6",
   "language": "julia",
   "name": "julia-1.6"
  },
  "language_info": {
   "file_extension": ".jl",
   "mimetype": "application/julia",
   "name": "julia",
   "version": "1.6.7"
  }
 },
 "nbformat": 4,
 "nbformat_minor": 5
}
