{
 "cells": [
  {
   "cell_type": "markdown",
   "id": "db4395fe-0874-4976-a0de-206787f79e77",
   "metadata": {},
   "source": [
    "# Create a FMU\n",
    "at the example of the well-known *bouncing ball*\n",
    "\n",
    "Tutorial by Tobias Thummerer, Simon Exner | Last edit: February 2025\n",
    "\n",
    "🚧 This is still WIP and we add additional information and description, soon! 🚧\n",
    "\n",
    "## License"
   ]
  },
  {
   "cell_type": "code",
   "execution_count": null,
   "id": "7b5524a2-a822-431b-a3d0-d9b417b64c87",
   "metadata": {},
   "outputs": [],
   "source": [
    "#\n",
    "# Copyright (c) 2021 Tobias Thummerer, Lars Mikelsons\n",
    "# Licensed under the MIT license. See LICENSE file in the project root for details.\n",
    "#"
   ]
  },
  {
   "cell_type": "markdown",
   "id": "684f4ee9-af54-4781-a49d-3f5d0d89c4fe",
   "metadata": {},
   "source": [
    "## Introduction\n",
    "\n",
    "This Julia Package FMIExport.jl enables the export of simulation models from Julia code. The FMI (Functional Mock-up Interface) is a free standard ([fmi-standard.org](https://fmi-standard.org)) that defines a *model container* and an interface to exchange simulation models using a combination of XML files, binaries and C code zipped into a single file. The magic on the Julia side happens by compiling Julia code to a DLL (Windows) or LIB (Linux) by using the *PackageCompiler.jl*, therefore a *package* is defined to be compiled - instead of just a single file. This is very important to keep in mind."
   ]
  },
  {
   "cell_type": "markdown",
   "id": "2fde377f",
   "metadata": {},
   "source": [
    "## Getting started \n",
    "To allow for editing the example, you can make a copy of the examples folder. In case you just want to lean back and enjoy the magic, you can proceed by just *opening* the bouncing ball example. \n",
    "\n",
    "In the creation of the FMU, an entire package is involved. However, the things that need to be defined by you can happen within only a single file. In case of the bouncing ball, this file is [BouncingBall.jl](https://github.com/ThummeTo/FMIExport.jl/blob/main/examples/FMI2/BouncingBall/src/BouncingBall.jl). If we have a look inside, we find many interesting things, that we investigate in detail now. The code in the following only investigates *snippets*, for full running code see the [examples folder](https://github.com/ThummeTo/FMIExport.jl/blob/main/examples/).\n",
    "\n",
    "We start by loading the library."
   ]
  },
  {
   "cell_type": "code",
   "execution_count": null,
   "id": "e499e5c8",
   "metadata": {},
   "outputs": [],
   "source": [
    "using FMIExport\n",
    "using FMIExport.FMIBase.FMICore: fmi2True, fmi2False, fmi2Integer"
   ]
  },
  {
   "cell_type": "markdown",
   "id": "8722ad11",
   "metadata": {},
   "source": [
    "Further, we define a start state and initial parameters."
   ]
  },
  {
   "cell_type": "code",
   "execution_count": null,
   "id": "b02d3c25",
   "metadata": {},
   "outputs": [],
   "source": [
    "# a minimum height to reset the ball after event\n",
    "EPS = 1e-8\n",
    "\n",
    "# ball position, velocity (initial)\n",
    "DEFAULT_X0 = [1.0, 0.0]\n",
    "# ball mass, ball radius, ball collision damping, ball minimum velocity, gravity constant \n",
    "DEFAULT_PARAMS = [1.0, 0.1, 0.9, 1e-3, 9.81]"
   ]
  },
  {
   "cell_type": "markdown",
   "id": "4bb32e43",
   "metadata": {},
   "source": [
    "### Initialization function\n",
    "For solving IVPs (initial value problems), we require an *inital value* - for ODEs, this is the initial state. Therefore, we define a function, that computes (or just returns) a start state to start the algorithm for numerical integration to obtain a solution."
   ]
  },
  {
   "cell_type": "code",
   "execution_count": null,
   "id": "57a6c714",
   "metadata": {},
   "outputs": [],
   "source": [
    "FMU_FCT_INIT = function()\n",
    "   \n",
    "    sticking = fmi2False\n",
    "    counter = fmi2Integer(0)\n",
    "\n",
    "    s = DEFAULT_X0[1]         # ball position\n",
    "    v = DEFAULT_X0[2]         # ball velocity\n",
    "    a = 0.0                   # ball acceleration\n",
    "\n",
    "    t = 0.0        \n",
    "    x_c = [s, v]      \n",
    "    ẋ_c = [v, a]\n",
    "    x_d = [sticking, counter]\n",
    "    u = []\n",
    "    p = DEFAULT_PARAMS\n",
    "\n",
    "    return (t, x_c, ẋ_c, x_d, u, p)\n",
    "end"
   ]
  },
  {
   "cell_type": "markdown",
   "id": "4181081e",
   "metadata": {},
   "source": [
    "### Function for the right-hand side\n",
    "After we defined start values for the integration, we need to define what is actually integrated. For ODEs, this is refered to as the *right-hand side*, a function, that defines derivatives that are numerically integrated by the ODE solver."
   ]
  },
  {
   "cell_type": "code",
   "execution_count": null,
   "id": "11d12074",
   "metadata": {},
   "outputs": [],
   "source": [
    "FMU_FCT_EVALUATE = function(t, x_c, ẋ_c, x_d, u, p, eventMode)\n",
    "    m, r, d, v_min, g = p\n",
    "    s, v = x_c\n",
    "    sticking, counter = x_d\n",
    "    _, a = ẋ_c\n",
    "\n",
    "    if sticking == fmi2True\n",
    "        a = 0.0\n",
    "    elseif sticking == fmi2False\n",
    "\n",
    "        if eventMode\n",
    "            h = s-r\n",
    "            if h <= 0 && v < 0\n",
    "                s = r + EPS # so that indicator is not triggered again\n",
    "                v = -v*d \n",
    "                counter = fmi2Integer(counter+1)\n",
    "\n",
    "                # stop bouncing to prevent high frequency bouncing (and maybe tunneling the floor)\n",
    "                if abs(v) < v_min\n",
    "                    sticking = fmi2True\n",
    "                    v = 0.0\n",
    "                end\n",
    "            end\n",
    "        end\n",
    "\n",
    "        a = (m * -g) / m     # the system's physical equation (a little longer than necessary)\n",
    "    else\n",
    "        @error \"Unknown value for `sticking` == $(sticking).\"\n",
    "        return (x_c, ẋ_c, x_d, p)\n",
    "    end\n",
    "\n",
    "    # Todo: Remove these allocations. Make it inplace.\n",
    "    x_c = [s, v]\n",
    "    ẋ_c = [v, a]\n",
    "    x_d = [sticking, counter]\n",
    "    p = [m, r, d, v_min, g]\n",
    "\n",
    "    return (x_c, ẋ_c, x_d, p)\n",
    "end"
   ]
  },
  {
   "cell_type": "markdown",
   "id": "c9f4f6cb",
   "metadata": {},
   "source": [
    "### Event indicator function\n",
    "We defined what happens if we collide with the ground, but we need a way to tell the solver *when exactly* this is the case - so a mathematical definition of the collision. This happens within the *event indicator*: Whenever we have a real zero crossing within the event indicator, the solver (or the event finding routine within) searches for the exact event location and pauses the integration process here. After the event is handled (and the ball velocity changed), the numerical integration resumes with the new state."
   ]
  },
  {
   "cell_type": "code",
   "execution_count": null,
   "id": "9a23b68a",
   "metadata": {},
   "outputs": [],
   "source": [
    "FMU_FCT_EVENT = function(t, x_c, ẋ_c, x_d, u, p)\n",
    "    m, r, d, v_min, g = p\n",
    "    s, v = x_c\n",
    "    _, a = ẋ_c\n",
    "    sticking, counter = x_d\n",
    "\n",
    "    # helpers\n",
    "    z1 = 0.0 # first event indicator\n",
    "    h = s-r # ball height\n",
    "\n",
    "    if sticking == fmi2True\n",
    "        z1 = 1.0            # event 1: ball stay-on-ground\n",
    "    else\n",
    "        if h > -EPS && h <= 0 && v > 0\n",
    "            z1 = -EPS\n",
    "        else \n",
    "            z1 = h\n",
    "        end\n",
    "    end\n",
    "\n",
    "    z = [z1]\n",
    "\n",
    "    return z\n",
    "end"
   ]
  },
  {
   "cell_type": "markdown",
   "id": "494d0be0",
   "metadata": {},
   "source": [
    "### Output function"
   ]
  },
  {
   "cell_type": "markdown",
   "id": "172ebd0b",
   "metadata": {},
   "source": [
    "Finally, we can define *outputs* that are exposed to the user. In FMI, in theory, we could investigate all quantities we are interested in (if not explicitly hidden by the FMU), however it makes sense to define or calculate application specific outputs. In this case, we just return the ball position and velocity."
   ]
  },
  {
   "cell_type": "code",
   "execution_count": null,
   "id": "95f2d5b3",
   "metadata": {},
   "outputs": [],
   "source": [
    "FMU_FCT_OUTPUT = function(t, x_c, ẋ_c, x_d, u, p)\n",
    "    m, r, d, v_min, g = p\n",
    "    s, v = x_c\n",
    "    _, a = ẋ_c\n",
    "    sticking, counter = x_d\n",
    "\n",
    "    y = [s, v]\n",
    "\n",
    "    return y\n",
    "end"
   ]
  },
  {
   "cell_type": "markdown",
   "id": "c3e0785e",
   "metadata": {},
   "source": [
    "### FMU constructor\n",
    "After defining the mathematical behavior for our FMU, we need to define a constructor - so a function that is called if the FMU is loaded. Within, we define all the variables we want to be part of the *model description*, technically a XML that exposes the model structure and variables. This XML is parsed by importing tools to simulate FMUs appropriately and to provide helpful information."
   ]
  },
  {
   "cell_type": "code",
   "execution_count": null,
   "id": "476ae2d6",
   "metadata": {},
   "outputs": [],
   "source": [
    "FMIBUILD_CONSTRUCTOR = function(resPath=\"\")\n",
    "    fmu = fmi2CreateSimple(initializationFct=FMU_FCT_INIT,\n",
    "                        evaluationFct=FMU_FCT_EVALUATE,\n",
    "                        outputFct=FMU_FCT_OUTPUT,\n",
    "                        eventFct=FMU_FCT_EVENT)\n",
    "\n",
    "    fmu.modelDescription.modelName = \"BouncingBall\"\n",
    "\n",
    "    # modes \n",
    "    fmi2ModelDescriptionAddModelExchange(fmu.modelDescription, \"BouncingBall\")\n",
    "\n",
    "    # states [2]\n",
    "    fmi2AddStateAndDerivative(fmu, \"ball.s\"; stateStart=DEFAULT_X0[1], stateDescr=\"Absolute position of ball center of mass\", derivativeDescr=\"Absolute velocity of ball center of mass\")\n",
    "    fmi2AddStateAndDerivative(fmu, \"ball.v\"; stateStart=DEFAULT_X0[2], stateDescr=\"Absolute velocity of ball center of mass\", derivativeDescr=\"Absolute acceleration of ball center of mass\")\n",
    "\n",
    "    # discrete state [2]\n",
    "    fmi2AddIntegerDiscreteState(fmu, \"sticking\"; description=\"Indicator (boolean) if the mass is sticking on the ground, as soon as abs(v) < v_min\")\n",
    "    fmi2AddIntegerDiscreteState(fmu, \"counter\"; description=\"Number of collision with the floor.\")\n",
    "\n",
    "    # outputs [2]\n",
    "    fmi2AddRealOutput(fmu, \"ball.s_out\"; description=\"Absolute position of ball center of mass\")\n",
    "    fmi2AddRealOutput(fmu, \"ball.v_out\"; description=\"Absolute velocity of ball center of mass\")\n",
    "\n",
    "    # parameters [5]\n",
    "    fmi2AddRealParameter(fmu, \"m\";     start=DEFAULT_PARAMS[1], description=\"Mass of ball\")\n",
    "    fmi2AddRealParameter(fmu, \"r\";     start=DEFAULT_PARAMS[2], description=\"Radius of ball\")\n",
    "    fmi2AddRealParameter(fmu, \"d\";     start=DEFAULT_PARAMS[3], description=\"Collision damping constant (velocity fraction after hitting the ground)\")\n",
    "    fmi2AddRealParameter(fmu, \"v_min\"; start=DEFAULT_PARAMS[4], description=\"Minimal ball velocity to enter on-ground-state\")\n",
    "    fmi2AddRealParameter(fmu, \"g\";     start=DEFAULT_PARAMS[5], description=\"Gravity constant\")\n",
    "\n",
    "    fmi2AddEventIndicator(fmu)\n",
    "\n",
    "    return fmu\n",
    "end"
   ]
  },
  {
   "cell_type": "markdown",
   "id": "e779cbc0",
   "metadata": {},
   "source": [
    "## Building the FMU\n",
    "The compilation process for the FMU is triggered by the following lines. Keep in mind, that the entire package is compiled to an FMU. If we trigger the building process within this package, we would create a FMU that compiles FMU... this sounds cool at first glance, but is not what we want in most cases. Therefore, the build command itself `saveFMU` is within a formatted block, starting with `### FMIBUILD_NO_EXPORT_BEGIN ###` and ending with `### FMIBUILD_NO_EXPORT_END ###`. All text between these delimiters is automatically removed *before* building of the package happens. This way, the actual building package `FMIBuild` and the build command are excluded from the final FMU. Alternatively, one could trigger the build process from outside the package, e.g. by working in the REPL directly. The command `saveFMU` is commented out, to not start a building process within this notebook - this must be included in your application of course."
   ]
  },
  {
   "cell_type": "code",
   "execution_count": null,
   "id": "29b92b8e",
   "metadata": {},
   "outputs": [],
   "source": [
    "### FMIBUILD_NO_EXPORT_BEGIN ###\n",
    "# The line above is a start-marker for excluded code for the FMU compilation process!\n",
    "\n",
    "tmpDir = mktempdir(; prefix=\"fmibuildjl_test_\", cleanup=false) \n",
    "@info \"Saving example files at: $(tmpDir)\"\n",
    "fmu_save_path = joinpath(tmpDir, \"BouncingBall.fmu\")  \n",
    "\n",
    "fmu = FMIBUILD_CONSTRUCTOR()\n",
    "using FMIBuild: saveFMU                    # <= this must be excluded during export, because FMIBuild cannot execute itself (but it is able to build)\n",
    "# saveFMU(fmu, fmu_save_path; debug=true, compress=false)    # <= this must be excluded during export, because saveFMU would start an infinite build loop with itself (debug=true allows debug messages, but is slow during execution!)\n",
    "\n",
    "# The following line is a end-marker for excluded code for the FMU compilation process!\n",
    "### FMIBUILD_NO_EXPORT_END ###"
   ]
  },
  {
   "cell_type": "markdown",
   "id": "0304e6ed",
   "metadata": {},
   "source": [
    "## Simulate the FMU \n",
    "FMUs exported and compiled with Julia **can not** be executed within Julia. This sounds wired, but comes from the fact that only a single Julia instance (sysimage) is allowed to run for each Julia process. However, you can use FMUs from Julia within any other tool that supports FMI, of course.\n",
    "\n",
    "Interestingly, there is actually no need to *compile* a FMU if you want to use it within Julia anyway - you can just use the current copy within the memory with *FMI.jl*, see the following lines."
   ]
  },
  {
   "cell_type": "code",
   "execution_count": null,
   "id": "4189991e",
   "metadata": {},
   "outputs": [],
   "source": [
    "using FMI, DifferentialEquations\n",
    "fmu.executionConfig.loggingOn = true\n",
    "solution = simulate(fmu, (0.0, 3.0); recordValues=[\"sticking\", \"counter\"])\n",
    "\n",
    "using Plots\n",
    "plot(solution)"
   ]
  },
  {
   "cell_type": "markdown",
   "id": "1f982a2c-f7e6-45b9-a7d0-2e315ee0404e",
   "metadata": {},
   "source": [
    "## Getting started with custom project\n",
    "The best way to start with your own project, is to make a *copy* of one of the example *folders*, for example the bouncing ball and edit it to fit you requirements. Because the entire package is compiled, you can control the size of the binary by adding or removing packages to the *Project.toml*. You can use *Pkg.jl* of course to manage dependencies. Then you can start overwriting the functions, that define the right-hand side of you FMU, events and event indicators and finally the output variables."
   ]
  }
 ],
 "metadata": {
  "kernelspec": {
   "display_name": "Julia 1.11.3",
   "language": "julia",
   "name": "julia-1.11"
  },
  "language_info": {
   "file_extension": ".jl",
   "mimetype": "application/julia",
   "name": "julia",
   "version": "1.11.3"
  }
 },
 "nbformat": 4,
 "nbformat_minor": 5
}
