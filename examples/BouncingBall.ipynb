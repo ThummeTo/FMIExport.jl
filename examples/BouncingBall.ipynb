{
 "cells": [
  {
   "cell_type": "markdown",
   "id": "4692457c",
   "metadata": {},
   "source": [
    "# Create a Bouncing Ball FMU\n",
    "Tutorial by Johannes Stoljar, Tobias Thummerer\n",
    "\n",
    "## License"
   ]
  },
  {
   "cell_type": "code",
   "execution_count": 1,
   "id": "6b627071",
   "metadata": {
    "execution": {
     "iopub.execute_input": "2022-10-04T21:58:05.543000Z",
     "iopub.status.busy": "2022-10-04T21:58:04.885000Z",
     "iopub.status.idle": "2022-10-04T21:58:05.825000Z",
     "shell.execute_reply": "2022-10-04T21:58:05.749000Z"
    }
   },
   "outputs": [],
   "source": [
    "# Copyright (c) 2021 Tobias Thummerer, Lars Mikelsons, Josef Kircher, Johannes Stoljar\n",
    "# Licensed under the MIT license.\n",
    "# See LICENSE (https://github.com/thummeto/FMIExport.jl/blob/main/LICENSE) file in the project root for details."
   ]
  },
  {
   "cell_type": "markdown",
   "id": "acb427c8",
   "metadata": {},
   "source": [
    "## Motivation\n",
    "This Julia Package *FMIExport.jl* is motivated by the export of simulation models in Julia. Here the FMI specification is implemented. FMI (*Functional Mock-up Interface*) is a free standard ([fmi-standard.org](http://fmi-standard.org/)) that defines a container and an interface to exchange dynamic models using a combination of XML files, binaries and C code zipped into a single file. The user is able to create own FMUs (*Functional Mock-up Units*).\n",
    "\n",
    "## Introduction to the example\n",
    "ToDo\n",
    "\n",
    "\n",
    "## Target group\n",
    "The example is primarily intended for users who work in the field of simulations. The example wants to show how simple it is to export FMUs in Julia.\n",
    "\n",
    "\n",
    "## Other formats\n",
    "Besides, this [Jupyter Notebook](https://github.com/thummeto/FMIExport.jl/blob/examples/examples/FMI2/BouncingBall/src/BouncingBall.ipynb) there is also a [Julia file](https://github.com/thummeto/FMIExport.jl/blob/examples/examples/FMI2/BouncingBall/src/BouncingBall.jl) with the same name, which contains only the code cells and for the documentation there is a [Markdown file](https://github.com/thummeto/FMI.jl/blob/examples/examples/FMI2/BouncingBall/src/BouncingBall.md) corresponding to the notebook.  \n",
    "\n",
    "\n",
    "## Getting started\n",
    "\n",
    "### Installation prerequisites\n",
    "|     | Description                       | Command                   | Alternative                                    |   \n",
    "|:----|:----------------------------------|:--------------------------|:-----------------------------------------------|\n",
    "| 1.  | Enter Package Manager via         | ]                         |                                                |\n",
    "| 2.  | Install FMIExport via             | add FMIExport             | add \" https://github.com/ThummeTo/FMIExport.jl \" |"
   ]
  },
  {
   "cell_type": "markdown",
   "id": "91bb7d9f",
   "metadata": {},
   "source": [
    "## Code section\n",
    "\n",
    "To run the example, the previously installed packages must be included. "
   ]
  },
  {
   "cell_type": "code",
   "execution_count": 2,
   "id": "7de0d313",
   "metadata": {
    "execution": {
     "iopub.execute_input": "2022-10-04T21:58:05.828000Z",
     "iopub.status.busy": "2022-10-04T21:58:05.827000Z",
     "iopub.status.idle": "2022-10-04T21:58:06.172000Z",
     "shell.execute_reply": "2022-10-04T21:58:06.172000Z"
    }
   },
   "outputs": [],
   "source": [
    "using FMIExport "
   ]
  },
  {
   "cell_type": "markdown",
   "id": "fe8ece67",
   "metadata": {},
   "source": [
    "### Define the Model\n",
    "\n",
    "In the following section the behavior of the FMU is defined by defining the functions for initialization, evaluation, output and event."
   ]
  },
  {
   "cell_type": "code",
   "execution_count": 3,
   "id": "ffdfaa99",
   "metadata": {
    "execution": {
     "iopub.execute_input": "2022-10-04T21:58:06.299000Z",
     "iopub.status.busy": "2022-10-04T21:58:06.175000Z",
     "iopub.status.idle": "2022-10-04T21:58:07.256000Z",
     "shell.execute_reply": "2022-10-04T21:58:07.256000Z"
    }
   },
   "outputs": [
    {
     "data": {
      "text/plain": [
       "#7 (generic function with 1 method)"
      ]
     },
     "execution_count": 3,
     "metadata": {},
     "output_type": "execute_result"
    }
   ],
   "source": [
    "FMU_FCT_INIT = function()\n",
    "    m = 1.0         # ball mass\n",
    "    r = 0.0         # ball radius\n",
    "    d = 0.7         # ball collision damping\n",
    "    v_min = 1e-1    # ball minimum velocity\n",
    "    g = -9.81       # gravity constant \n",
    "\n",
    "    s = 1.0         # ball position\n",
    "    v = 0.0         # ball velocity\n",
    "    a = 0.0         # ball acceleration\n",
    "\n",
    "    t = 0.0        \n",
    "    x = [s, v]      \n",
    "    ẋ = [v, a]\n",
    "    u = []\n",
    "    p = [m, r, d, v_min, g]\n",
    "\n",
    "    return (t, x, ẋ, u, p)\n",
    "end\n",
    "\n",
    "FMU_FCT_EVALUATE = function(t, x, ẋ, u, p)\n",
    "    m, r, d, v_min, g = (p...,)\n",
    "    s, v = (x...,)\n",
    "    _, a = (ẋ...,)\n",
    "\n",
    "    if s <= r && v < 0.0\n",
    "        s = r\n",
    "        v = -v*d \n",
    "        \n",
    "        # stop bouncing to prevent high frequency bouncing (and maybe tunneling the floor)\n",
    "        if v < v_min\n",
    "            v = 0.0\n",
    "            g = 0.0\n",
    "        end\n",
    "    end\n",
    "\n",
    "    a = (m * g) / m     # the system's physical equation\n",
    "\n",
    "    x = [s, v]\n",
    "    ẋ = [v, a]\n",
    "    p = [m, r, d, v_min, g]\n",
    "\n",
    "    return (x, ẋ, p)\n",
    "end\n",
    "\n",
    "FMU_FCT_OUTPUT = function(t, x, ẋ, u, p)\n",
    "    m, r, d, v_min, g = (p...,)\n",
    "    s, v = (x...,)\n",
    "    _, a = (ẋ...,)\n",
    "\n",
    "    y = [s]\n",
    "\n",
    "    return y\n",
    "end\n",
    "\n",
    "FMU_FCT_EVENT = function(t, x, ẋ, u, p)\n",
    "    m, r, d, v_min, g = (p...,)\n",
    "    s, v = (x...,)\n",
    "    _, a = (ẋ...,)\n",
    "\n",
    "    z1 = (s-r)              # event 1: ball hits ground \n",
    "   \n",
    "    if s==r && v==0.0\n",
    "        z1 = 1.0            # event 1: ball stay-on-ground\n",
    "    end\n",
    "\n",
    "    z = [z1]\n",
    "\n",
    "    return z\n",
    "end"
   ]
  },
  {
   "cell_type": "markdown",
   "id": "0226b411",
   "metadata": {},
   "source": [
    "### FMU Constructor\n",
    "\n",
    "This function is called, as soon as the DLL is loaded and Julia is initialized. The function must return a FMU2-instance to work with."
   ]
  },
  {
   "cell_type": "code",
   "execution_count": 4,
   "id": "bbda31c3",
   "metadata": {
    "execution": {
     "iopub.execute_input": "2022-10-04T21:58:07.260000Z",
     "iopub.status.busy": "2022-10-04T21:58:07.260000Z",
     "iopub.status.idle": "2022-10-04T21:58:09.105000Z",
     "shell.execute_reply": "2022-10-04T21:58:09.105000Z"
    }
   },
   "outputs": [
    {
     "name": "stderr",
     "output_type": "stream",
     "text": [
      "┌ Info: Saving example files at: /tmp/fmibuildjl_test_DpMkmy\n",
      "└ @ Main In[4]:30\n"
     ]
    },
    {
     "data": {
      "text/plain": [
       "Model name:        \n",
       "Type:              0"
      ]
     },
     "execution_count": 4,
     "metadata": {},
     "output_type": "execute_result"
    }
   ],
   "source": [
    "FMIBUILD_CONSTRUCTOR = function(resPath=\".\")\n",
    "    fmu = fmi2CreateSimple(initializationFct=FMU_FCT_INIT,\n",
    "                        evaluationFct=FMU_FCT_EVALUATE,\n",
    "                        outputFct=FMU_FCT_OUTPUT,\n",
    "                        eventFct=FMU_FCT_EVENT)\n",
    "\n",
    "    # states [2]\n",
    "    fmi2AddStateAndDerivative(fmu, \"ball.s\"; stateDescr=\"Absolute position of ball center of mass\", derivativeDescr=\"Absolute velocity of ball center of mass\")\n",
    "    fmi2AddStateAndDerivative(fmu, \"ball.v\"; stateDescr=\"Absolute velocity of ball center of mass\", derivativeDescr=\"Absolute acceleration of ball center of mass\")\n",
    "\n",
    "    # outputs [1]\n",
    "    fmi2AddRealOutput(fmu, \"ball.s\"; description=\"Absolute position of ball center of mass\")\n",
    "\n",
    "    # parameters [5]\n",
    "    fmi2AddRealParameter(fmu, \"m\";     description=\"Mass of ball\")\n",
    "    fmi2AddRealParameter(fmu, \"r\";     description=\"Radius of ball\")\n",
    "    fmi2AddRealParameter(fmu, \"d\";     description=\"Collision damping constant (velocity fraction after hitting the ground)\")\n",
    "    fmi2AddRealParameter(fmu, \"v_min\"; description=\"Minimal ball velocity to enter on-ground-state\")\n",
    "    fmi2AddRealParameter(fmu, \"g\";     description=\"Gravity constant\")\n",
    "\n",
    "    fmi2AddEventIndicator(fmu)\n",
    "\n",
    "    return fmu\n",
    "end\n",
    "\n",
    "### FMIBUILD_NO_EXPORT_BEGIN ###\n",
    "# The line above is a start-marker for excluded code for the FMU compilation process!\n",
    "\n",
    "tmpDir = mktempdir(; prefix=\"fmibuildjl_test_\", cleanup=false) \n",
    "@info \"Saving example files at: $(tmpDir)\"\n",
    "fmu_save_path = joinpath(tmpDir, \"BouncingBall.fmu\")  \n",
    "\n",
    "fmu = FMIBUILD_CONSTRUCTOR()\n",
    "# using FMIBuild: fmi2Save        # <= this must be excluded during export, because FMIBuild cannot execute itself (but it is able to build)\n",
    "# fmi2Save(fmu, fmu_save_path)    # <= this must be excluded during export, because fmi2Save would start an infinte build loop with itself \n",
    "\n",
    "### some tests ###\n",
    "# using FMI\n",
    "# comp = fmiInstantiate!(fmu; loggingOn=true)\n",
    "# solution = fmiSimulateME(comp, 0.0, 10.0; dtmax=0.1)\n",
    "# fmiPlot(fmu, solution)\n",
    "# fmiFreeInstance!(comp)\n",
    "\n",
    "# The following line is a end-marker for excluded code for the FMU compilation process!\n",
    "### FMIBUILD_NO_EXPORT_END ###"
   ]
  },
  {
   "cell_type": "markdown",
   "id": "1e14050f",
   "metadata": {},
   "source": [
    "### Summary\n",
    "\n",
    "Based on this tutorial it can be seen that creating an FMU is very easy."
   ]
  }
 ],
 "metadata": {
  "kernelspec": {
   "display_name": "Julia 1.6.6",
   "language": "julia",
   "name": "julia-1.6"
  },
  "language_info": {
   "file_extension": ".jl",
   "mimetype": "application/julia",
   "name": "julia",
   "version": "1.6.7"
  }
 },
 "nbformat": 4,
 "nbformat_minor": 5
}
