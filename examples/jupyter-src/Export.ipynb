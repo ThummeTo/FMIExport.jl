{
 "cells": [
  {
   "cell_type": "markdown",
   "id": "db4395fe-0874-4976-a0de-206787f79e77",
   "metadata": {},
   "source": [
    "# Create a Bouncing Ball FMU\n",
    "\n",
    "Tutorial by Tobias Thummerer, Simon Exner | Last edit: October 29 2024\n",
    "\n",
    "🚧 This is a placeholder example, it will be changed or replaced soon. It is not meant to be tutorial at the current state! See the [examples folder](https://github.com/ThummeTo/FMIExport.jl/tree/main/examples/FMI2) for examples. 🚧\n",
    "\n",
    "## License"
   ]
  },
  {
   "cell_type": "code",
   "execution_count": 1,
   "id": "7b5524a2-a822-431b-a3d0-d9b417b64c87",
   "metadata": {
    "execution": {
     "iopub.execute_input": "2025-01-15T14:01:59.784000Z",
     "iopub.status.busy": "2025-01-15T14:01:59.331000Z",
     "iopub.status.idle": "2025-01-15T14:02:00.096000Z",
     "shell.execute_reply": "2025-01-15T14:02:00.034000Z"
    }
   },
   "outputs": [],
   "source": [
    "# Copyright (c) 2021 Tobias Thummerer, Lars Mikelsons, Josef Kircher, Johannes Stoljar\n",
    "# Licensed under the MIT license.\n",
    "# See LICENSE (https://github.com/thummeto/FMIExport.jl/blob/main/LICENSE) file in the project root for details."
   ]
  },
  {
   "cell_type": "markdown",
   "id": "684f4ee9-af54-4781-a49d-3f5d0d89c4fe",
   "metadata": {},
   "source": [
    "## Motivation\n",
    "\n",
    "This Julia Package FMIExport.jl is motivated by the export of simulation models in Julia. Here the FMI specification is implemented. FMI (Functional Mock-up Interface) is a free standard ([fmi-standard.org](https://fmi-standard.org)) that defines a container and an interface to exchange dynamic models using a combination of XML files, binaries and C code zipped into a single file. The user is able to create own FMUs (Functional Mock-up Units)."
   ]
  },
  {
   "cell_type": "markdown",
   "id": "c354487b-99e1-4428-ad6f-cc535008df78",
   "metadata": {},
   "source": [
    "## REPL-commands or build-script\n",
    "\n",
    "The way to do this usually will be the REPL, but if you plan on exporting FMUs in an automated way, you may want to use a jl script containing the following commands.\n",
    "To run this example, the previously installed packages must be included."
   ]
  },
  {
   "cell_type": "code",
   "execution_count": 2,
   "id": "1acea4a0-3817-4559-a47f-d880cc78d3e4",
   "metadata": {
    "execution": {
     "iopub.execute_input": "2025-01-15T14:02:00.096000Z",
     "iopub.status.busy": "2025-01-15T14:02:00.096000Z",
     "iopub.status.idle": "2025-01-15T14:02:03.193000Z",
     "shell.execute_reply": "2025-01-15T14:02:03.193000Z"
    }
   },
   "outputs": [],
   "source": [
    "using FMIExport\n",
    "using FMIBuild: saveFMU"
   ]
  },
  {
   "cell_type": "markdown",
   "id": "a42e20da-526a-4d13-aeb4-6c758fc38003",
   "metadata": {},
   "source": [
    "Next we have to define where to put the generated files:"
   ]
  },
  {
   "cell_type": "code",
   "execution_count": 3,
   "id": "edf9d24c-ee04-4371-9d62-70c6b6dfefa1",
   "metadata": {
    "execution": {
     "iopub.execute_input": "2025-01-15T14:02:03.318000Z",
     "iopub.status.busy": "2025-01-15T14:02:03.193000Z",
     "iopub.status.idle": "2025-01-15T14:02:04.474000Z",
     "shell.execute_reply": "2025-01-15T14:02:04.459000Z"
    }
   },
   "outputs": [
    {
     "name": "stderr",
     "output_type": "stream",
     "text": [
      "\u001b[36m\u001b[1m[ \u001b[22m\u001b[39m\u001b[36m\u001b[1mInfo: \u001b[22m\u001b[39mSaving example files at: C:\\Users\\RUNNER~1\\AppData\\Local\\Temp\\fmibuildjl_test_4aPeCb\n"
     ]
    },
    {
     "data": {
      "text/plain": [
       "\"C:\\\\Users\\\\RUNNER~1\\\\AppData\\\\Local\\\\Temp\\\\fmibuildjl_test_4aPeCb\\\\BouncingBall.fmu\""
      ]
     },
     "execution_count": 3,
     "metadata": {},
     "output_type": "execute_result"
    }
   ],
   "source": [
    "tmpDir = mktempdir(; prefix=\"fmibuildjl_test_\", cleanup=false) \n",
    "@info \"Saving example files at: $(tmpDir)\"\n",
    "fmu_save_path = joinpath(tmpDir, \"BouncingBall.fmu\")  "
   ]
  },
  {
   "cell_type": "markdown",
   "id": "8fb29e5a-0384-499c-807b-302a49193c95",
   "metadata": {},
   "source": [
    "Remember, that we use the FMU-source stored at [examples/FMI2/BouncingBall](https://github.com/ThummeTo/FMIExport.jl/tree/main/examples/FMI2/BouncingBall). If you execute this notebook locally, make shure to adjust the fmu_source_path to where your FMU-Package resides. **It is important, that an absolute path is provided!** For this notebook to work in the automated bulid pipeline, this absolute path is obtained by the following instructions. If you run this example locally, you can provide the path manually, just make shure you use the correct directory seperator or just use just use julias `joinpath` function."
   ]
  },
  {
   "cell_type": "code",
   "execution_count": 4,
   "id": "eb90aa47-5203-4480-bc5c-fa79ed240a6f",
   "metadata": {
    "execution": {
     "iopub.execute_input": "2025-01-15T14:02:04.474000Z",
     "iopub.status.busy": "2025-01-15T14:02:04.474000Z",
     "iopub.status.idle": "2025-01-15T14:02:04.521000Z",
     "shell.execute_reply": "2025-01-15T14:02:04.521000Z"
    }
   },
   "outputs": [
    {
     "name": "stdout",
     "output_type": "stream",
     "text": [
      "pwd() returns: D:\\a\\FMIExport.jl\\FMIExport.jl\\examples\\jupyter-src\n",
      "package_dir is D:\\a\\FMIExport.jl\\FMIExport.jl\\\n",
      "fmu_source_package is D:\\a\\FMIExport.jl\\FMIExport.jl\\examples\\FMI2\\BouncingBall\n",
      "fmu_source_path is D:\\a\\FMIExport.jl\\FMIExport.jl\\examples\\FMI2\\BouncingBall\\src\\BouncingBall.jl\n"
     ]
    }
   ],
   "source": [
    "working_dir = pwd() # current working directory\n",
    "println(string(\"pwd() returns: \", working_dir))\n",
    "\n",
    "package_dir = split(working_dir, joinpath(\"examples\", \"jupyter-src\"))[1] # remove everything after and including \"examples\\jupyter-src\"\n",
    "println(string(\"package_dir is \", package_dir))\n",
    "\n",
    "fmu_source_package = joinpath(package_dir, \"examples\", \"FMI2\", \"BouncingBall\") # add correct relative path\n",
    "println(string(\"fmu_source_package is \", fmu_source_package))\n",
    "\n",
    "fmu_source_path = joinpath(fmu_source_package, \"src\", \"BouncingBall.jl\") # add correct relative path\n",
    "println(string(\"fmu_source_path is \", fmu_source_path))"
   ]
  },
  {
   "cell_type": "markdown",
   "id": "625f5898-c269-4146-8284-c1bd0e005819",
   "metadata": {},
   "source": [
    "The following codecell contains *workardound* code that will be obsolete with the next release. This is just to check the CI-Pipeline!"
   ]
  },
  {
   "cell_type": "code",
   "execution_count": 5,
   "id": "d86f0783-05fd-4cb3-9be6-5997ab9cfbdd",
   "metadata": {
    "execution": {
     "iopub.execute_input": "2025-01-15T14:02:04.537000Z",
     "iopub.status.busy": "2025-01-15T14:02:04.537000Z",
     "iopub.status.idle": "2025-01-15T14:02:05.928000Z",
     "shell.execute_reply": "2025-01-15T14:02:05.928000Z"
    }
   },
   "outputs": [
    {
     "data": {
      "text/plain": [
       "Model name:\tBouncingBall\n",
       "Type:\t\t0"
      ]
     },
     "execution_count": 5,
     "metadata": {},
     "output_type": "execute_result"
    }
   ],
   "source": [
    "using FMIExport.FMIBase.FMICore: fmi2True, fmi2False \n",
    "\n",
    "EPS = 1e-6\n",
    "\n",
    "FMU_FCT_INIT = function()\n",
    "    m = 1.0         # ball mass\n",
    "    r = 0.0         # ball radius\n",
    "    d = 0.7         # ball collision damping\n",
    "    v_min = 1e-1    # ball minimum velocity\n",
    "    g = 9.81        # gravity constant \n",
    "    sticking = fmi2False\n",
    "\n",
    "    s = 1.0         # ball position\n",
    "    v = 0.0         # ball velocity\n",
    "    a = 0.0         # ball acceleration\n",
    "\n",
    "    t = 0.0        \n",
    "    x_c = [s, v]      \n",
    "    ẋ_c = [v, a]\n",
    "    x_d = [sticking]\n",
    "    u = []\n",
    "    p = [m, r, d, v_min, g]\n",
    "\n",
    "    return (t, x_c, ẋ_c, x_d, u, p)\n",
    "end\n",
    "\n",
    "FMU_FCT_EVALUATE = function(t, x_c, ẋ_c, x_d, u, p, eventMode)\n",
    "    m, r, d, v_min, g = p\n",
    "    s, v = x_c\n",
    "    sticking = x_d[1]\n",
    "    _, a = ẋ_c\n",
    "\n",
    "    if sticking == fmi2True\n",
    "        a = 0.0\n",
    "    elseif sticking == fmi2False\n",
    "        if eventMode\n",
    "            if s < r && v < 0.0\n",
    "                s = r + EPS # so that indicator is not triggered again\n",
    "                v = -v*d \n",
    "                \n",
    "                # stop bouncing to prevent high frequency bouncing (and maybe tunneling the floor)\n",
    "                if abs(v) < v_min\n",
    "                    sticking = fmi2True\n",
    "                    v = 0.0\n",
    "                end\n",
    "            end\n",
    "        else\n",
    "            # no specials in continuos time mode\n",
    "        end\n",
    "\n",
    "        a = (m * -g) / m     # the system's physical equation (a little longer than necessary)\n",
    "    else\n",
    "        @error \"Unknown value for `sticking` == $(sticking).\"\n",
    "        return (x_c, ẋ_c, x_d, p)\n",
    "    end\n",
    "\n",
    "    x_c = [s, v]\n",
    "    ẋ_c = [v, a]\n",
    "    x_d = [sticking]\n",
    "    p = [m, r, d, v_min, g]\n",
    "\n",
    "    return (x_c, ẋ_c, x_d, p) # evaluation can't change discrete state!\n",
    "end\n",
    "\n",
    "FMU_FCT_OUTPUT = function(t, x_c, ẋ_c, x_d, u, p)\n",
    "    m, r, d, v_min, g = p\n",
    "    s, v = x_c\n",
    "    _, a = ẋ_c\n",
    "    sticking = x_d[1]\n",
    "\n",
    "    y = [s]\n",
    "\n",
    "    return y\n",
    "end\n",
    "\n",
    "FMU_FCT_EVENT = function(t, x_c, ẋ_c, x_d, u, p)\n",
    "    m, r, d, v_min, g = p\n",
    "    s, v = x_c\n",
    "    _, a = ẋ_c\n",
    "    sticking = x_d[1]\n",
    "   \n",
    "    if sticking == fmi2True\n",
    "        z1 = 1.0            # event 1: ball stay-on-ground\n",
    "    else\n",
    "        z1 = (s-r)          # event 1: ball hits ground \n",
    "    end\n",
    "\n",
    "    z = [z1]\n",
    "\n",
    "    return z\n",
    "end\n",
    "FMIBUILD_CONSTRUCTOR = function(resPath=\"\")\n",
    "    fmu = fmi2CreateSimple(initializationFct=FMU_FCT_INIT,\n",
    "                        evaluationFct=FMU_FCT_EVALUATE,\n",
    "                        outputFct=FMU_FCT_OUTPUT,\n",
    "                        eventFct=FMU_FCT_EVENT)\n",
    "\n",
    "    fmu.modelDescription.modelName = \"BouncingBall\"\n",
    "\n",
    "    # modes \n",
    "    fmi2ModelDescriptionAddModelExchange(fmu.modelDescription, \"BouncingBall\")\n",
    "\n",
    "    # states [2]\n",
    "    fmi2AddStateAndDerivative(fmu, \"ball.s\"; stateDescr=\"Absolute position of ball center of mass\", derivativeDescr=\"Absolute velocity of ball center of mass\")\n",
    "    fmi2AddStateAndDerivative(fmu, \"ball.v\"; stateDescr=\"Absolute velocity of ball center of mass\", derivativeDescr=\"Absolute acceleration of ball center of mass\")\n",
    "\n",
    "    # discrete state [1]\n",
    "    fmi2AddIntegerDiscreteState(fmu, \"sticking\"; description=\"Indicator (boolean) if the mass is sticking on the ground, as soon as abs(v) < v_min\")\n",
    "\n",
    "    # outputs [1]\n",
    "    fmi2AddRealOutput(fmu, \"ball.s_out\"; description=\"Absolute position of ball center of mass\")\n",
    "\n",
    "    # parameters [5]\n",
    "    fmi2AddRealParameter(fmu, \"m\";     description=\"Mass of ball\")\n",
    "    fmi2AddRealParameter(fmu, \"r\";     description=\"Radius of ball\")\n",
    "    fmi2AddRealParameter(fmu, \"d\";     description=\"Collision damping constant (velocity fraction after hitting the ground)\")\n",
    "    fmi2AddRealParameter(fmu, \"v_min\"; description=\"Minimal ball velocity to enter on-ground-state\")\n",
    "    fmi2AddRealParameter(fmu, \"g\";     description=\"Gravity constant\")\n",
    "\n",
    "    fmi2AddEventIndicator(fmu)\n",
    "\n",
    "    return fmu\n",
    "end\n",
    "fmu = FMIBUILD_CONSTRUCTOR()"
   ]
  },
  {
   "cell_type": "markdown",
   "id": "95a4ce82-9320-4776-b382-d9fe650d8d83",
   "metadata": {},
   "source": [
    "We need to make shure the fmu_source_package is instantiated:"
   ]
  },
  {
   "cell_type": "code",
   "execution_count": 6,
   "id": "7e04c11a-2afa-4d91-8bfc-1595aefa1aa6",
   "metadata": {
    "execution": {
     "iopub.execute_input": "2025-01-15T14:02:05.943000Z",
     "iopub.status.busy": "2025-01-15T14:02:05.943000Z",
     "iopub.status.idle": "2025-01-15T14:02:17.654000Z",
     "shell.execute_reply": "2025-01-15T14:02:17.654000Z"
    }
   },
   "outputs": [
    {
     "name": "stderr",
     "output_type": "stream",
     "text": [
      "\u001b[32m\u001b[1m  Activating\u001b[22m\u001b[39m project at `D:\\a\\FMIExport.jl\\FMIExport.jl\\examples\\FMI2\\BouncingBall`"
     ]
    },
    {
     "name": "stderr",
     "output_type": "stream",
     "text": [
      "\n"
     ]
    },
    {
     "name": "stderr",
     "output_type": "stream",
     "text": [
      "\u001b[32m\u001b[1m   Resolving\u001b[22m\u001b[39m package versions..."
     ]
    },
    {
     "name": "stderr",
     "output_type": "stream",
     "text": [
      "\n"
     ]
    },
    {
     "name": "stderr",
     "output_type": "stream",
     "text": [
      "\u001b[32m\u001b[1m    Updating\u001b[22m\u001b[39m `D:\\a\\FMIExport.jl\\FMIExport.jl\\examples\\FMI2\\BouncingBall\\Project.toml`\n",
      "  \u001b[90m[226f0e26] \u001b[39m\u001b[92m+ FMIBuild v0.3.2\u001b[39m\n",
      "  \u001b[90m[31b88311] \u001b[39m\u001b[92m+ FMIExport v0.4.1 `D:\\a\\FMIExport.jl\\FMIExport.jl\\`\u001b[39m\n",
      "\u001b[32m\u001b[1m    Updating\u001b[22m\u001b[39m `D:\\a\\FMIExport.jl\\FMIExport.jl\\examples\\FMI2\\BouncingBall\\Manifest.toml`\n"
     ]
    },
    {
     "name": "stderr",
     "output_type": "stream",
     "text": [
      "  \u001b[90m[47edcb42] \u001b[39m\u001b[92m+ ADTypes v1.11.0\u001b[39m\n",
      "  \u001b[90m[7d9f7c33] \u001b[39m\u001b[92m+ Accessors v0.1.41\u001b[39m\n",
      "  \u001b[90m[79e6a3ab] \u001b[39m\u001b[92m+ Adapt v4.1.1\u001b[39m\n",
      "  \u001b[90m[4fba245c] \u001b[39m\u001b[92m+ ArrayInterface v7.18.0\u001b[39m\n",
      "  \u001b[90m[4c555306] \u001b[39m\u001b[92m+ ArrayLayouts v1.11.0\u001b[39m\n",
      "  \u001b[90m[62783981] \u001b[39m\u001b[92m+ BitTwiddlingConvenienceFunctions v0.1.6\u001b[39m\n",
      "  \u001b[90m[2a0fbf3d] \u001b[39m\u001b[92m+ CPUSummary v0.2.6\u001b[39m\n",
      "\u001b[33m⌅\u001b[39m \u001b[90m[d360d2e6] \u001b[39m\u001b[92m+ ChainRulesCore v1.24.0\u001b[39m\n",
      "  \u001b[90m[fb6a15b2] \u001b[39m\u001b[92m+ CloseOpenIntervals v0.1.13\u001b[39m\n",
      "  \u001b[90m[38540f10] \u001b[39m\u001b[92m+ CommonSolve v0.2.4\u001b[39m\n",
      "  \u001b[90m[bbf7d656] \u001b[39m\u001b[92m+ CommonSubexpressions v0.3.1\u001b[39m\n",
      "  \u001b[90m[f70d9fcc] \u001b[39m\u001b[92m+ CommonWorldInvalidations v1.0.0\u001b[39m\n",
      "  \u001b[90m[34da2185] \u001b[39m\u001b[92m+ Compat v4.16.0\u001b[39m\n",
      "  \u001b[90m[a33af91c] \u001b[39m\u001b[92m+ CompositionsBase v0.1.2\u001b[39m\n",
      "  \u001b[90m[2569d6c7] \u001b[39m\u001b[92m+ ConcreteStructs v0.2.3\u001b[39m\n",
      "  \u001b[90m[187b0558] \u001b[39m\u001b[92m+ ConstructionBase v1.5.8\u001b[39m\n",
      "  \u001b[90m[adafc99b] \u001b[39m\u001b[92m+ CpuId v0.3.1\u001b[39m\n",
      "  \u001b[90m[9a962f9c] \u001b[39m\u001b[92m+ DataAPI v1.16.0\u001b[39m\n",
      "  \u001b[90m[864edb3b] \u001b[39m\u001b[92m+ DataStructures v0.18.20\u001b[39m\n",
      "  \u001b[90m[e2d170a0] \u001b[39m\u001b[92m+ DataValueInterfaces v1.0.0\u001b[39m\n",
      "  \u001b[90m[2b5f629d] \u001b[39m\u001b[92m+ DiffEqBase v6.161.0\u001b[39m\n",
      "\u001b[33m⌅\u001b[39m \u001b[90m[459566f4] \u001b[39m\u001b[92m+ DiffEqCallbacks v3.9.1\u001b[39m\n",
      "  \u001b[90m[163ba53b] \u001b[39m\u001b[92m+ DiffResults v1.1.0\u001b[39m\n",
      "  \u001b[90m[b552c78f] \u001b[39m\u001b[92m+ DiffRules v1.15.1\u001b[39m\n",
      "  \u001b[90m[a0c0ee7d] \u001b[39m\u001b[92m+ DifferentiationInterface v0.6.29\u001b[39m\n",
      "  \u001b[90m[ffbed154] \u001b[39m\u001b[92m+ DocStringExtensions v0.9.3\u001b[39m\n",
      "  \u001b[90m[4e289a0a] \u001b[39m\u001b[92m+ EnumX v1.0.4\u001b[39m\n",
      "  \u001b[90m[f151be2c] \u001b[39m\u001b[92m+ EnzymeCore v0.8.8\u001b[39m\n",
      "  \u001b[90m[e2ba6199] \u001b[39m\u001b[92m+ ExprTools v0.1.10\u001b[39m\n",
      "\u001b[33m⌅\u001b[39m \u001b[90m[6b7a57c9] \u001b[39m\u001b[92m+ Expronicon v0.8.5\u001b[39m\n",
      "  \u001b[90m[8f5d6c58] \u001b[39m\u001b[92m+ EzXML v1.2.0\u001b[39m\n",
      "  \u001b[90m[900ee838] \u001b[39m\u001b[92m+ FMIBase v1.0.10\u001b[39m\n",
      "  \u001b[90m[226f0e26] \u001b[39m\u001b[92m+ FMIBuild v0.3.2\u001b[39m\n",
      "  \u001b[90m[8af89139] \u001b[39m\u001b[92m+ FMICore v1.1.1\u001b[39m\n",
      "  \u001b[90m[31b88311] \u001b[39m\u001b[92m+ FMIExport v0.4.1 `D:\\a\\FMIExport.jl\\FMIExport.jl\\`\u001b[39m\n",
      "  \u001b[90m[7034ab61] \u001b[39m\u001b[92m+ FastBroadcast v0.3.5\u001b[39m\n",
      "  \u001b[90m[9aa1b823] \u001b[39m\u001b[92m+ FastClosures v0.3.2\u001b[39m\n",
      "  \u001b[90m[29a986be] \u001b[39m\u001b[92m+ FastLapackInterface v2.0.4\u001b[39m\n",
      "  \u001b[90m[a4df4552] \u001b[39m\u001b[92m+ FastPower v1.1.1\u001b[39m\n",
      "  \u001b[90m[1a297f60] \u001b[39m\u001b[92m+ FillArrays v1.13.0\u001b[39m\n",
      "  \u001b[90m[6a86dc24] \u001b[39m\u001b[92m+ FiniteDiff v2.26.2\u001b[39m\n",
      "  \u001b[90m[f6369f11] \u001b[39m\u001b[92m+ ForwardDiff v0.10.38\u001b[39m\n",
      "  \u001b[90m[069b7b12] \u001b[39m\u001b[92m+ FunctionWrappers v1.1.3\u001b[39m\n",
      "  \u001b[90m[77dc65aa] \u001b[39m\u001b[92m+ FunctionWrappersWrappers v0.1.3\u001b[39m\n",
      "\u001b[33m⌅\u001b[39m \u001b[90m[d9f16b24] \u001b[39m\u001b[92m+ Functors v0.4.12\u001b[39m\n",
      "  \u001b[90m[46192b85] \u001b[39m\u001b[92m+ GPUArraysCore v0.2.0\u001b[39m\n",
      "  \u001b[90m[c27321d9] \u001b[39m\u001b[92m+ Glob v1.3.1\u001b[39m\n",
      "  \u001b[90m[3e5b6fbb] \u001b[39m\u001b[92m+ HostCPUFeatures v0.1.17\u001b[39m\n",
      "  \u001b[90m[615f187c] \u001b[39m\u001b[92m+ IfElse v0.1.1\u001b[39m\n",
      "  \u001b[90m[3587e190] \u001b[39m\u001b[92m+ InverseFunctions v0.1.17\u001b[39m\n",
      "  \u001b[90m[92d709cd] \u001b[39m\u001b[92m+ IrrationalConstants v0.2.2\u001b[39m\n",
      "  \u001b[90m[82899510] \u001b[39m\u001b[92m+ IteratorInterfaceExtensions v1.0.0\u001b[39m\n",
      "  \u001b[90m[692b3bcd] \u001b[39m\u001b[92m+ JLLWrappers v1.7.0\u001b[39m\n",
      "  \u001b[90m[ef3ab10e] \u001b[39m\u001b[92m+ KLU v0.6.0\u001b[39m\n",
      "  \u001b[90m[ba0b0d4f] \u001b[39m\u001b[92m+ Krylov v0.9.8\u001b[39m\n",
      "  \u001b[90m[10f19ff3] \u001b[39m\u001b[92m+ LayoutPointers v0.1.17\u001b[39m\n",
      "  \u001b[90m[5078a376] \u001b[39m\u001b[92m+ LazyArrays v2.3.2\u001b[39m\n",
      "  \u001b[90m[87fe0de2] \u001b[39m\u001b[92m+ LineSearch v0.1.4\u001b[39m\n",
      "  \u001b[90m[d3d80556] \u001b[39m\u001b[92m+ LineSearches v7.3.0\u001b[39m\n",
      "  \u001b[90m[7ed4a6bd] \u001b[39m\u001b[92m+ LinearSolve v2.38.0\u001b[39m\n",
      "  \u001b[90m[2ab3a3ac] \u001b[39m\u001b[92m+ LogExpFunctions v0.3.29\u001b[39m\n",
      "  \u001b[90m[bdcacae8] \u001b[39m\u001b[92m+ LoopVectorization v0.12.171\u001b[39m\n",
      "  \u001b[90m[d8e11817] \u001b[39m\u001b[92m+ MLStyle v0.4.17\u001b[39m\n",
      "  \u001b[90m[1914dd2f] \u001b[39m\u001b[92m+ MacroTools v0.5.15\u001b[39m\n",
      "  \u001b[90m[d125e4d3] \u001b[39m\u001b[92m+ ManualMemory v0.1.8\u001b[39m\n",
      "  \u001b[90m[bb5d69b7] \u001b[39m\u001b[92m+ MaybeInplace v0.1.4\u001b[39m\n",
      "  \u001b[90m[46d2c3a1] \u001b[39m\u001b[92m+ MuladdMacro v0.2.4\u001b[39m\n",
      "  \u001b[90m[d41bc354] \u001b[39m\u001b[92m+ NLSolversBase v7.8.3\u001b[39m\n",
      "  \u001b[90m[77ba4419] \u001b[39m\u001b[92m+ NaNMath v1.0.3\u001b[39m\n",
      "\u001b[33m⌅\u001b[39m \u001b[90m[8913a72c] \u001b[39m\u001b[92m+ NonlinearSolve v3.15.1\u001b[39m\n",
      "  \u001b[90m[6fe1bfb0] \u001b[39m\u001b[92m+ OffsetArrays v1.15.0\u001b[39m\n",
      "  \u001b[90m[bac558e1] \u001b[39m\u001b[92m+ OrderedCollections v1.7.0\u001b[39m\n",
      "  \u001b[90m[9b87118b] \u001b[39m\u001b[92m+ PackageCompiler v2.2.0\u001b[39m\n",
      "  \u001b[90m[65ce6f38] \u001b[39m\u001b[92m+ PackageExtensionCompat v1.0.2\u001b[39m\n",
      "  \u001b[90m[d96e819e] \u001b[39m\u001b[92m+ Parameters v0.12.3\u001b[39m\n",
      "  \u001b[90m[f517fe37] \u001b[39m\u001b[92m+ Polyester v0.7.16\u001b[39m\n",
      "  \u001b[90m[1d0040c9] \u001b[39m\u001b[92m+ PolyesterWeave v0.2.2\u001b[39m\n",
      "  \u001b[90m[d236fae5] \u001b[39m\u001b[92m+ PreallocationTools v0.4.24\u001b[39m\n",
      "  \u001b[90m[aea7be01] \u001b[39m\u001b[92m+ PrecompileTools v1.2.1\u001b[39m\n",
      "  \u001b[90m[21216c6a] \u001b[39m\u001b[92m+ Preferences v1.4.3\u001b[39m\n",
      "  \u001b[90m[92933f4c] \u001b[39m\u001b[92m+ ProgressMeter v1.10.2\u001b[39m\n",
      "  \u001b[90m[3cdcf5f2] \u001b[39m\u001b[92m+ RecipesBase v1.3.4\u001b[39m\n",
      "  \u001b[90m[731186ca] \u001b[39m\u001b[92m+ RecursiveArrayTools v3.27.4\u001b[39m\n",
      "  \u001b[90m[f2c3362d] \u001b[39m\u001b[92m+ RecursiveFactorization v0.2.23\u001b[39m\n",
      "  \u001b[90m[189a3867] \u001b[39m\u001b[92m+ Reexport v1.2.2\u001b[39m\n",
      "  \u001b[90m[05181044] \u001b[39m\u001b[92m+ RelocatableFolders v1.0.1\u001b[39m\n",
      "  \u001b[90m[ae029012] \u001b[39m\u001b[92m+ Requires v1.3.0\u001b[39m\n",
      "  \u001b[90m[7e49a35a] \u001b[39m\u001b[92m+ RuntimeGeneratedFunctions v0.5.13\u001b[39m\n",
      "  \u001b[90m[94e857df] \u001b[39m\u001b[92m+ SIMDTypes v0.1.0\u001b[39m\n",
      "  \u001b[90m[476501e8] \u001b[39m\u001b[92m+ SLEEFPirates v0.6.43\u001b[39m\n",
      "  \u001b[90m[0bca4576] \u001b[39m\u001b[92m+ SciMLBase v2.70.0\u001b[39m\n",
      "  \u001b[90m[19f34311] \u001b[39m\u001b[92m+ SciMLJacobianOperators v0.1.1\u001b[39m\n",
      "  \u001b[90m[c0aeaf25] \u001b[39m\u001b[92m+ SciMLOperators v0.3.12\u001b[39m\n",
      "  \u001b[90m[53ae85a6] \u001b[39m\u001b[92m+ SciMLStructures v1.6.1\u001b[39m\n",
      "  \u001b[90m[6c6a2e73] \u001b[39m\u001b[92m+ Scratch v1.2.1\u001b[39m\n",
      "  \u001b[90m[efcf1570] \u001b[39m\u001b[92m+ Setfield v1.1.1\u001b[39m\n",
      "\u001b[33m⌅\u001b[39m \u001b[90m[727e6d20] \u001b[39m\u001b[92m+ SimpleNonlinearSolve v1.12.3\u001b[39m\n",
      "  \u001b[90m[9f842d2f] \u001b[39m\u001b[92m+ SparseConnectivityTracer v0.6.9\u001b[39m\n",
      "  \u001b[90m[0a514795] \u001b[39m\u001b[92m+ SparseMatrixColorings v0.4.10\u001b[39m\n",
      "  \u001b[90m[e56a9233] \u001b[39m\u001b[92m+ Sparspak v0.3.9\u001b[39m\n",
      "  \u001b[90m[276daf66] \u001b[39m\u001b[92m+ SpecialFunctions v2.5.0\u001b[39m\n",
      "  \u001b[90m[aedffcd0] \u001b[39m\u001b[92m+ Static v1.1.1\u001b[39m\n",
      "  \u001b[90m[0d7ed370] \u001b[39m\u001b[92m+ StaticArrayInterface v1.8.0\u001b[39m\n",
      "  \u001b[90m[1e83bf80] \u001b[39m\u001b[92m+ StaticArraysCore v1.4.3\u001b[39m\n",
      "  \u001b[90m[7792a7ef] \u001b[39m\u001b[92m+ StrideArraysCore v0.5.7\u001b[39m\n",
      "  \u001b[90m[2efcf032] \u001b[39m\u001b[92m+ SymbolicIndexingInterface v0.3.37\u001b[39m\n",
      "  \u001b[90m[3783bdb8] \u001b[39m\u001b[92m+ TableTraits v1.0.1\u001b[39m\n",
      "  \u001b[90m[bd369af6] \u001b[39m\u001b[92m+ Tables v1.12.0\u001b[39m\n",
      "  \u001b[90m[8290d209] \u001b[39m\u001b[92m+ ThreadingUtilities v0.5.2\u001b[39m\n",
      "  \u001b[90m[a759f4b9] \u001b[39m\u001b[92m+ TimerOutputs v0.5.26\u001b[39m\n",
      "  \u001b[90m[d5829a12] \u001b[39m\u001b[92m+ TriangularSolve v0.2.1\u001b[39m\n",
      "  \u001b[90m[781d530d] \u001b[39m\u001b[92m+ TruncatedStacktraces v1.4.0\u001b[39m\n",
      "  \u001b[90m[3a884ed6] \u001b[39m\u001b[92m+ UnPack v1.0.2\u001b[39m\n",
      "  \u001b[90m[3d5dd08c] \u001b[39m\u001b[92m+ VectorizationBase v0.21.71\u001b[39m\n",
      "  \u001b[90m[a5390f91] \u001b[39m\u001b[92m+ ZipFile v0.10.1\u001b[39m\n",
      "  \u001b[90m[1d5cc7b8] \u001b[39m\u001b[92m+ IntelOpenMP_jll v2024.2.1+0\u001b[39m\n",
      "  \u001b[90m[94ce4f54] \u001b[39m\u001b[92m+ Libiconv_jll v1.18.0+0\u001b[39m\n",
      "  \u001b[90m[856f044c] \u001b[39m\u001b[92m+ MKL_jll v2024.2.0+0\u001b[39m\n",
      "  \u001b[90m[efe28fd5] \u001b[39m\u001b[92m+ OpenSpecFun_jll v0.5.6+0\u001b[39m\n",
      "  \u001b[90m[02c8fc9c] \u001b[39m\u001b[92m+ XML2_jll v2.13.5+0\u001b[39m\n",
      "  \u001b[90m[1317d2d5] \u001b[39m\u001b[92m+ oneTBB_jll v2021.12.0+0\u001b[39m\n",
      "  \u001b[90m[0dad84c5] \u001b[39m\u001b[92m+ ArgTools v1.1.1\u001b[39m\n",
      "  \u001b[90m[56f22d72] \u001b[39m\u001b[92m+ Artifacts\u001b[39m\n",
      "  \u001b[90m[2a0f44e3] \u001b[39m\u001b[92m+ Base64\u001b[39m\n",
      "  \u001b[90m[ade2ca70] \u001b[39m\u001b[92m+ Dates\u001b[39m\n",
      "  \u001b[90m[8ba89e20] \u001b[39m\u001b[92m+ Distributed\u001b[39m\n",
      "  \u001b[90m[f43a241f] \u001b[39m\u001b[92m+ Downloads v1.6.0\u001b[39m\n",
      "  \u001b[90m[7b1f6079] \u001b[39m\u001b[92m+ FileWatching\u001b[39m\n",
      "  \u001b[90m[9fa8497b] \u001b[39m\u001b[92m+ Future\u001b[39m\n",
      "  \u001b[90m[b77e0a4c] \u001b[39m\u001b[92m+ InteractiveUtils\u001b[39m\n",
      "  \u001b[90m[4af54fe1] \u001b[39m\u001b[92m+ LazyArtifacts\u001b[39m\n",
      "  \u001b[90m[b27032c2] \u001b[39m\u001b[92m+ LibCURL v0.6.4\u001b[39m\n",
      "  \u001b[90m[76f85450] \u001b[39m\u001b[92m+ LibGit2\u001b[39m\n",
      "  \u001b[90m[8f399da3] \u001b[39m\u001b[92m+ Libdl\u001b[39m\n",
      "  \u001b[90m[37e2e46d] \u001b[39m\u001b[92m+ LinearAlgebra\u001b[39m\n",
      "  \u001b[90m[56ddb016] \u001b[39m\u001b[92m+ Logging\u001b[39m\n",
      "  \u001b[90m[d6f4376e] \u001b[39m\u001b[92m+ Markdown\u001b[39m\n",
      "  \u001b[90m[ca575930] \u001b[39m\u001b[92m+ NetworkOptions v1.2.0\u001b[39m\n",
      "  \u001b[90m[44cfe95a] \u001b[39m\u001b[92m+ Pkg v1.10.0\u001b[39m\n",
      "  \u001b[90m[de0858da] \u001b[39m\u001b[92m+ Printf\u001b[39m\n",
      "  \u001b[90m[3fa0cd96] \u001b[39m\u001b[92m+ REPL\u001b[39m\n",
      "  \u001b[90m[9a3f8284] \u001b[39m\u001b[92m+ Random\u001b[39m\n",
      "  \u001b[90m[ea8e919c] \u001b[39m\u001b[92m+ SHA v0.7.0\u001b[39m\n",
      "  \u001b[90m[9e88b42a] \u001b[39m\u001b[92m+ Serialization\u001b[39m\n",
      "  \u001b[90m[6462fe0b] \u001b[39m\u001b[92m+ Sockets\u001b[39m\n",
      "  \u001b[90m[2f01184e] \u001b[39m\u001b[92m+ SparseArrays v1.10.0\u001b[39m\n",
      "  \u001b[90m[10745b16] \u001b[39m\u001b[92m+ Statistics v1.10.0\u001b[39m\n",
      "  \u001b[90m[fa267f1f] \u001b[39m\u001b[92m+ TOML v1.0.3\u001b[39m\n",
      "  \u001b[90m[a4e569a6] \u001b[39m\u001b[92m+ Tar v1.10.0\u001b[39m\n",
      "  \u001b[90m[8dfed614] \u001b[39m\u001b[92m+ Test\u001b[39m\n",
      "  \u001b[90m[cf7118a7] \u001b[39m\u001b[92m+ UUIDs\u001b[39m\n",
      "  \u001b[90m[4ec0a83e] \u001b[39m\u001b[92m+ Unicode\u001b[39m\n",
      "  \u001b[90m[e66e0078] \u001b[39m\u001b[92m+ CompilerSupportLibraries_jll v1.1.1+0\u001b[39m\n",
      "  \u001b[90m[deac9b47] \u001b[39m\u001b[92m+ LibCURL_jll v8.4.0+0\u001b[39m\n",
      "  \u001b[90m[e37daf67] \u001b[39m\u001b[92m+ LibGit2_jll v1.6.4+0\u001b[39m\n",
      "  \u001b[90m[29816b5a] \u001b[39m\u001b[92m+ LibSSH2_jll v1.11.0+1\u001b[39m\n",
      "  \u001b[90m[c8ffd9c3] \u001b[39m\u001b[92m+ MbedTLS_jll v2.28.2+1\u001b[39m\n",
      "  \u001b[90m[14a3606d] \u001b[39m\u001b[92m+ MozillaCACerts_jll v2023.1.10\u001b[39m\n",
      "  \u001b[90m[4536629a] \u001b[39m\u001b[92m+ OpenBLAS_jll v0.3.23+4\u001b[39m\n",
      "  \u001b[90m[05823500] \u001b[39m\u001b[92m+ OpenLibm_jll v0.8.1+2\u001b[39m\n",
      "  \u001b[90m[bea87d4a] \u001b[39m\u001b[92m+ SuiteSparse_jll v7.2.1+1\u001b[39m\n",
      "  \u001b[90m[83775a58] \u001b[39m\u001b[92m+ Zlib_jll v1.2.13+1\u001b[39m\n",
      "  \u001b[90m[8e850b90] \u001b[39m\u001b[92m+ libblastrampoline_jll v5.11.0+0\u001b[39m\n",
      "  \u001b[90m[8e850ede] \u001b[39m\u001b[92m+ nghttp2_jll v1.52.0+1\u001b[39m\n",
      "  \u001b[90m[3f19e933] \u001b[39m\u001b[92m+ p7zip_jll v17.4.0+2\u001b[39m\n",
      "\u001b[36m\u001b[1m        Info\u001b[22m\u001b[39m Packages marked with \u001b[33m⌅\u001b[39m have new versions available but compatibility constraints restrict them from upgrading. To see why use `status --outdated -m`\n",
      "\u001b[32m\u001b[1m  Activating\u001b[22m\u001b[39m project at `D:\\a\\FMIExport.jl\\FMIExport.jl\\examples`\n"
     ]
    }
   ],
   "source": [
    "using Pkg\n",
    "notebook_env = Base.active_project(); # save current enviroment to return to it after we are done\n",
    "Pkg.activate(fmu_source_package); # activate the FMUs enviroment\n",
    "\n",
    "# make shure to use the same FMI source as in the enviroment of this example (\"notebook_env\"). \n",
    "# As this example is automattically built using the local FMIExport package and not the one from the Juila registry, we need to add it using \"develop\". \n",
    "Pkg.develop(PackageSpec(path=package_dir)); # If you added FMIExport using \"add FMIExport\", you have to remove this line and use instantiate instead.\n",
    "# Pkg.instantiate(); # instantiate the FMUs enviroment only if develop was not previously called\n",
    "\n",
    "Pkg.activate(notebook_env); # return to the original notebooks enviroment"
   ]
  },
  {
   "cell_type": "markdown",
   "id": "c3c6ffee-d62f-40a1-826f-bccb5caffc36",
   "metadata": {},
   "source": [
    "That is all the preperation, that was necessary. Now we can export the FMU. \n",
    "\n",
    "The following codecell contains *workardound* code that will need to be modified with the next release."
   ]
  },
  {
   "cell_type": "code",
   "execution_count": 7,
   "id": "ec7fe879-5ad4-4053-9676-eaf933b13804",
   "metadata": {
    "execution": {
     "iopub.execute_input": "2025-01-15T14:02:17.654000Z",
     "iopub.status.busy": "2025-01-15T14:02:17.654000Z",
     "iopub.status.idle": "2025-01-15T14:02:17.654000Z",
     "shell.execute_reply": "2025-01-15T14:02:17.654000Z"
    }
   },
   "outputs": [],
   "source": [
    "# currently export is broken, therefor we will not do it\n",
    "#saveFMU(fmu, fmu_save_path, fmu_source_path; debug=false, compress=false) # feel free to set debug true, disabled for documentation building\n",
    "#saveFMU(fmu_save_path, fmu_source_path; debug=false, compress=false) this meight be the format after the next release"
   ]
  },
  {
   "cell_type": "markdown",
   "id": "a511bfeb-df91-4aaf-85cf-5bb6b78a1b3f",
   "metadata": {},
   "source": [
    "Now we will grab the generated FMU and move it to a path, where it will be included in this documentation"
   ]
  },
  {
   "cell_type": "code",
   "execution_count": 8,
   "id": "9a4261b9-b5aa-4932-a5a5-6af70f5033a6",
   "metadata": {
    "execution": {
     "iopub.execute_input": "2025-01-15T14:02:17.654000Z",
     "iopub.status.busy": "2025-01-15T14:02:17.654000Z",
     "iopub.status.idle": "2025-01-15T14:02:17.669000Z",
     "shell.execute_reply": "2025-01-15T14:02:17.669000Z"
    }
   },
   "outputs": [
    {
     "data": {
      "text/plain": [
       "\"Export_files\""
      ]
     },
     "execution_count": 8,
     "metadata": {},
     "output_type": "execute_result"
    }
   ],
   "source": [
    "mkpath(\"Export_files\")\n",
    "# currently export is broken, therefor we will not find anything there\n",
    "#cp(fmu_save_path, joinpath(\"Export_files\", \"BouncingBall.fmu\"))"
   ]
  },
  {
   "cell_type": "markdown",
   "id": "1f982a2c-f7e6-45b9-a7d0-2e315ee0404e",
   "metadata": {},
   "source": [
    "One current limitation of Julia-FMUs is, that they can not be imported back into Julia, as it is currently not allowed having two Julia-sys-images existing at the same time within the same process. (The Julia FMU comes bundeled with its own image).\n",
    "\n",
    "Therefore we will test our generated FMU in Python unsing FMPy."
   ]
  }
 ],
 "metadata": {
  "kernelspec": {
   "display_name": "Julia 1.10.6",
   "language": "julia",
   "name": "julia-1.10"
  },
  "language_info": {
   "file_extension": ".jl",
   "mimetype": "application/julia",
   "name": "julia",
   "version": "1.10.7"
  }
 },
 "nbformat": 4,
 "nbformat_minor": 5
}
